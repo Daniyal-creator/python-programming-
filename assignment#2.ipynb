{
 "cells": [
  {
   "cell_type": "markdown",
   "metadata": {},
   "source": [
    "# question:1"
   ]
  },
  {
   "cell_type": "code",
   "execution_count": 5,
   "metadata": {},
   "outputs": [
    {
     "name": "stdout",
     "output_type": "stream",
     "text": [
      "enter math number:67\n",
      "enter physics number:67\n",
      "enter chemistry number:67\n",
      "enter english number:67\n",
      "enter urdu number:67\n",
      "your percentage is 67.0 your grade is B\n"
     ]
    }
   ],
   "source": [
    "m_subject = eval(input(\"enter math number:\"))\n",
    "p_subject = eval(input(\"enter physics number:\"))\n",
    "c_subject = eval(input(\"enter chemistry number:\"))\n",
    "e_subject = eval(input(\"enter english number:\"))\n",
    "u_subject = eval(input(\"enter urdu number:\"))\n",
    "obtained=m_subject + p_subject + c_subject + e_subject + u_subject\n",
    "total = 500\n",
    "percentage=(obtained*100)/total\n",
    "if percentage >=80 and percentage <=100:\n",
    "         grade =\"your grade is \" \"A+\"\n",
    "elif percentage >=70 and percentage <= 80:\n",
    "            grade = \"your grade is \"  \"A\"\n",
    "elif percentage >=60 and percentage <= 70:\n",
    "        grade = \"your grade is \"  \"B\"\n",
    "elif percentage >=50 and percentage <= 60:\n",
    "        grade =\"your grade is \" , \"C\"\n",
    "elif percentage >=40 and percentage <= 50:\n",
    "        grade=\"your grade is \" , \"D\"\n",
    "else:\n",
    "    grade=\"your grade is \" , \"F\"\n",
    "print(\"your percentage is\",percentage,grade) "
   ]
  },
  {
   "cell_type": "markdown",
   "metadata": {},
   "source": [
    "# question:2"
   ]
  },
  {
   "cell_type": "code",
   "execution_count": 13,
   "metadata": {},
   "outputs": [
    {
     "name": "stdout",
     "output_type": "stream",
     "text": [
      "enter:999999999\n",
      "odd\n"
     ]
    }
   ],
   "source": [
    "num =  eval(input(\"enter:\"))\n",
    "if num%2==0:\n",
    "    print(\"even\")\n",
    "else:\n",
    "    print(\"odd\")"
   ]
  },
  {
   "cell_type": "markdown",
   "metadata": {},
   "source": [
    "# question:3"
   ]
  },
  {
   "cell_type": "code",
   "execution_count": 14,
   "metadata": {},
   "outputs": [
    {
     "name": "stdout",
     "output_type": "stream",
     "text": [
      "5\n"
     ]
    }
   ],
   "source": [
    "length = [2,3,4,5,6]\n",
    "print(len(length))"
   ]
  },
  {
   "cell_type": "markdown",
   "metadata": {},
   "source": [
    "# question:4"
   ]
  },
  {
   "cell_type": "code",
   "execution_count": 19,
   "metadata": {},
   "outputs": [
    {
     "name": "stdout",
     "output_type": "stream",
     "text": [
      "30\n"
     ]
    }
   ],
   "source": [
    "lst = [2,3,4,5,6,10]\n",
    "print(sum(lst))"
   ]
  },
  {
   "cell_type": "markdown",
   "metadata": {},
   "source": [
    "# question:5"
   ]
  },
  {
   "cell_type": "code",
   "execution_count": 20,
   "metadata": {},
   "outputs": [
    {
     "name": "stdout",
     "output_type": "stream",
     "text": [
      "34\n"
     ]
    }
   ],
   "source": [
    "lst = [2,3,4,5,6,10,34]\n",
    "print(max(lst))"
   ]
  },
  {
   "cell_type": "markdown",
   "metadata": {},
   "source": [
    "# question:6"
   ]
  },
  {
   "cell_type": "code",
   "execution_count": 22,
   "metadata": {},
   "outputs": [
    {
     "name": "stdout",
     "output_type": "stream",
     "text": [
      "0\n",
      "-1\n",
      "2\n",
      "3\n",
      "4\n"
     ]
    }
   ],
   "source": [
    "lst = [0,-1,2,3,4,5,6,10,34]\n",
    "for i in lst:\n",
    "    if i<5:\n",
    "        print(i)"
   ]
  }
 ],
 "metadata": {
  "kernelspec": {
   "display_name": "Python 3",
   "language": "python",
   "name": "python3"
  },
  "language_info": {
   "codemirror_mode": {
    "name": "ipython",
    "version": 3
   },
   "file_extension": ".py",
   "mimetype": "text/x-python",
   "name": "python",
   "nbconvert_exporter": "python",
   "pygments_lexer": "ipython3",
   "version": "3.7.4"
  }
 },
 "nbformat": 4,
 "nbformat_minor": 2
}
