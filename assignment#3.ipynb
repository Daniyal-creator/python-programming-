{
 "cells": [
  {
   "cell_type": "markdown",
   "metadata": {},
   "source": [
    "# question:1"
   ]
  },
  {
   "cell_type": "code",
   "execution_count": 3,
   "metadata": {},
   "outputs": [
    {
     "name": "stdout",
     "output_type": "stream",
     "text": [
      "enter:-3\n",
      "enter:-6\n",
      "operator:+\n",
      "-9\n"
     ]
    }
   ],
   "source": [
    "x = eval(input(\"enter:\"))\n",
    "y = eval(input(\"enter:\"))\n",
    "operator = input(\"operator:\")\n",
    "if operator == \"+\":\n",
    "    print(x+y)\n",
    "elif operator == \"-\":\n",
    "    print(x-y)\n",
    "elif operator == \"*\":\n",
    "    print(x*y)\n",
    "elif operator ==\"/\":\n",
    "    print(x/y)\n",
    "else:\n",
    "    print(\"enter correct operator\")"
   ]
  },
  {
   "cell_type": "markdown",
   "metadata": {},
   "source": [
    "# question:2"
   ]
  },
  {
   "cell_type": "code",
   "execution_count": 14,
   "metadata": {},
   "outputs": [
    {
     "name": "stdout",
     "output_type": "stream",
     "text": [
      "43\n",
      "56\n"
     ]
    }
   ],
   "source": [
    "lst = [\"str\",43,\"apple\",56,\"math\"]\n",
    "for i in lst:\n",
    "    if i ==43:\n",
    "        print(i)\n",
    "    if i ==56:\n",
    "        print(i)"
   ]
  },
  {
   "cell_type": "markdown",
   "metadata": {},
   "source": [
    "# question:5"
   ]
  },
  {
   "cell_type": "code",
   "execution_count": 16,
   "metadata": {},
   "outputs": [
    {
     "name": "stdout",
     "output_type": "stream",
     "text": [
      "['apple', 'banana']\n"
     ]
    }
   ],
   "source": [
    "x = [\"apple\",\"banana\",\"apple\",\"banana\",\"orange\",\"pomegranate\"]\n",
    "y =len(x)\n",
    "repeated =[]\n",
    "for i in range(y):\n",
    "    k = i + 1\n",
    "    for j in range(k,y):\n",
    "        if x[i] == x[j] and x[i] not in repeated:\n",
    "            repeated.append(x[i])\n",
    "print(repeated)"
   ]
  },
  {
   "cell_type": "markdown",
   "metadata": {},
   "source": [
    "# question:3"
   ]
  },
  {
   "cell_type": "code",
   "execution_count": 20,
   "metadata": {},
   "outputs": [
    {
     "data": {
      "text/plain": [
       "{'isi': '123', 'nab': '2468', 'fia': '1234', 'saylani': '090078601'}"
      ]
     },
     "execution_count": 20,
     "metadata": {},
     "output_type": "execute_result"
    }
   ],
   "source": [
    "phone_no = {\"isi\" : \"123\",\n",
    "            \"nab\" : \"2468\",\n",
    "            \"fia\" : \"1234\"}\n",
    "phone_no[\"saylani\"] = \"090078601\"\n",
    "phone_no"
   ]
  },
  {
   "cell_type": "markdown",
   "metadata": {},
   "source": [
    "# question:4"
   ]
  },
  {
   "cell_type": "code",
   "execution_count": 24,
   "metadata": {},
   "outputs": [
    {
     "data": {
      "text/plain": [
       "3825"
      ]
     },
     "execution_count": 24,
     "metadata": {},
     "output_type": "execute_result"
    }
   ],
   "source": [
    "phone_no = {\"isi\" : 123,\n",
    "            \"nab\" : 2468,\n",
    "            \"fia\" : 1234}\n",
    "sum(phone_no.values())"
   ]
  },
  {
   "cell_type": "markdown",
   "metadata": {},
   "source": [
    "# question:6"
   ]
  },
  {
   "cell_type": "code",
   "execution_count": 25,
   "metadata": {},
   "outputs": [
    {
     "name": "stdout",
     "output_type": "stream",
     "text": [
      "yes\n",
      "yes\n"
     ]
    }
   ],
   "source": [
    "x = [\"apple\",\"banana\",\"apple\",\"banana\",\"orange\",\"pomegranate\"]\n",
    "for i in x:\n",
    "    if i == \"apple\":\n",
    "        print(\"yes\")"
   ]
  }
 ],
 "metadata": {
  "kernelspec": {
   "display_name": "Python 3",
   "language": "python",
   "name": "python3"
  },
  "language_info": {
   "codemirror_mode": {
    "name": "ipython",
    "version": 3
   },
   "file_extension": ".py",
   "mimetype": "text/x-python",
   "name": "python",
   "nbconvert_exporter": "python",
   "pygments_lexer": "ipython3",
   "version": "3.7.4"
  }
 },
 "nbformat": 4,
 "nbformat_minor": 2
}
